{
 "cells": [
  {
   "cell_type": "code",
   "execution_count": null,
   "metadata": {},
   "outputs": [],
   "source": [
    "# Import required modules\n",
    "import requests\n",
    "import time\n",
    "import os\n",
    "import pprint\n",
    "import json\n",
    "from pathlib import Path\n",
    "from typing import List\n",
    "from os import listdir\n",
    "from os.path import isfile, join\n",
    "from dotenv import load_dotenv\n",
    "\n",
    "from azure.storage.blob import BlobServiceClient, BlobClient, ContainerClient\n",
    "from azure.identity import DefaultAzureCredential"
   ]
  },
  {
   "cell_type": "code",
   "execution_count": null,
   "metadata": {},
   "outputs": [],
   "source": [
    "\n",
    "\n",
    "\n",
    "# Set content understanding service settings\n",
    "AISERVICE_ENDPOINT = 'https://nc2202-cogser.cognitiveservices.azure.com/' #os.getenv(\"AISERVICE_ENDPOINT\")\n",
    "API_KEY = '' #os.getenv(\"AISERVICE_API_KEY\")\n",
    "API_VERSION = '2024-12-01-preview' #os.getenv(\"CU_API_VERSION\")\n",
    "\n",
    "## Set Content Understanding management api paths\n",
    "PATH_ANALYZER_MANAGEMENT_ALL = \"/contentunderstanding/analyzers\"\n",
    "PATH_ANALYZER_MANAGEMENT = \"/contentunderstanding/analyzers/{analyzerId}\"\n",
    "PATH_ANALYZER_MANAGEMENT_OPERATION = \"/contentunderstanding/analyzers/{analyzerId}/operations/{operationId}\"\n",
    "\n",
    "## Set Content Understanding inference paths\n",
    "PATH_ANALYZER_INFERENCE = \"/contentunderstanding/analyzers/{analyzerId}:analyze\"\n",
    "PATH_ANALYZER_INFERENCE_GET_IMAGE = \"/contentunderstanding/analyzers/{analyzerId}/results/{operationId}/images/{imageId}\"\n",
    "\n",
    "# Initialize Blob Storage\n",
    "## Get storage information from environment variables\n",
    "BLOB_ENDPOINT = 'https://nccutestadls.blob.core.windows.net/' #os.getenv(\"BLOB_ENDPOINT\")\n",
    "BLOB_SAS_TOKEN = os.getenv(\"BLOB_SAS_TOKEN\")\n",
    "BLOB_CONTAINER_NAME = os.getenv(\"BLOB_CONTAINER_NAME\")\n",
    "BLOB_CONTAINER_NAME_AUDIO = os.getenv(\"BLOB_CONTAINER_NAME_AUDIO\")\n",
    "data = None\n",
    "\n",
    "## Initialize BlobServiceClient\n",
    "blob_service_client = BlobServiceClient(account_url=BLOB_ENDPOINT, credential=credential)\n",
    "results_container_client = blob_service_client.get_container_client(container=BLOB_CONTAINER_NAME)\n",
    "audio_container_client = blob_service_client.get_container_client(container=BLOB_CONTAINER_NAME_AUDIO)"
   ]
  }
 ],
 "metadata": {
  "language_info": {
   "name": "python"
  }
 },
 "nbformat": 4,
 "nbformat_minor": 2
}
