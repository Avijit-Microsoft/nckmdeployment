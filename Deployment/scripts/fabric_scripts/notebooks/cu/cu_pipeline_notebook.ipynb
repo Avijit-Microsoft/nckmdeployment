{
 "cells": [
  {
   "cell_type": "code",
   "execution_count": null,
   "id": "a9a2074c-59d9-48e8-8efe-54be6089ef7f",
   "metadata": {
    "microsoft": {
     "language": "python",
     "language_group": "synapse_pyspark"
    }
   },
   "outputs": [
    {
     "data": {
      "application/vnd.livy.statement-meta+json": {
       "execution_finish_time": "2024-07-01T03:36:40.0792374Z",
       "execution_start_time": "2024-07-01T03:35:20.8329974Z",
       "livy_statement_state": "available",
       "normalized_state": "finished",
       "parent_msg_id": "f77e37b8-b6af-4acb-aa11-9f6593ce92a8",
       "queued_time": "2024-07-01T03:35:08.2258444Z",
       "session_id": "a4fdd437-af0f-4a0d-b2bb-f89cc384e4ab",
       "session_start_time": "2024-07-01T03:35:08.4670253Z",
       "spark_pool": null,
       "state": "finished",
       "statement_id": 12,
       "statement_ids": [
        3,
        4,
        5,
        6,
        7,
        8,
        9,
        10,
        11,
        12
       ]
      },
      "text/plain": [
       "StatementMeta(, a4fdd437-af0f-4a0d-b2bb-f89cc384e4ab, 12, Finished, Available, Finished)"
      ]
     },
     "metadata": {},
     "output_type": "display_data"
    }
   ],
   "source": [
    "%run create_cu_template"
   ]
  },
  {
   "cell_type": "code",
   "execution_count": null,
   "id": "ad2c0570-7d1e-4867-b884-799f7cc311b6",
   "metadata": {
    "jupyter": {
     "outputs_hidden": false,
     "source_hidden": false
    },
    "microsoft": {
     "language": "python",
     "language_group": "synapse_pyspark"
    },
    "nteract": {
     "transient": {
      "deleting": false
     }
    }
   },
   "outputs": [
    {
     "data": {
      "application/vnd.livy.statement-meta+json": {
       "execution_finish_time": "2024-07-01T03:40:46.4757932Z",
       "execution_start_time": "2024-07-01T03:40:24.095566Z",
       "livy_statement_state": "available",
       "normalized_state": "finished",
       "parent_msg_id": "c28e3862-7a4e-4495-aaa1-4c2ef6299d9e",
       "queued_time": "2024-07-01T03:40:23.7437768Z",
       "session_id": "a4fdd437-af0f-4a0d-b2bb-f89cc384e4ab",
       "session_start_time": null,
       "spark_pool": null,
       "state": "finished",
       "statement_id": 15,
       "statement_ids": [
        13,
        14,
        15
       ]
      },
      "text/plain": [
       "StatementMeta(, a4fdd437-af0f-4a0d-b2bb-f89cc384e4ab, 15, Finished, Available, Finished)"
      ]
     },
     "metadata": {},
     "output_type": "display_data"
    }
   ],
   "source": [
    "%run cu_pipeline_notebook"
   ]
  }
 ],
 "metadata": {
  "dependencies": {
   "lakehouse": {
    "default_lakehouse": "851083bf-f5d2-4d00-a965-0a098d89f6dc",
    "default_lakehouse_name": "WealthAdvisor",
    "default_lakehouse_workspace_id": "1011789c-c9cb-4dd1-bb66-7a81f5f567e5"
   }
  },
  "kernel_info": {
   "name": "synapse_pyspark"
  },
  "kernelspec": {
   "display_name": "Synapse PySpark",
   "language": "Python",
   "name": "synapse_pyspark"
  },
  "language_info": {
   "name": "python"
  },
  "microsoft": {
   "language": "python",
   "language_group": "synapse_pyspark",
   "ms_spell_check": {
    "ms_spell_check_language": "en"
   }
  },
  "nteract": {
   "version": "nteract-front-end@1.0.0"
  },
  "spark_compute": {
   "compute_id": "/trident/default"
  },
  "widgets": {}
 },
 "nbformat": 4,
 "nbformat_minor": 5
}
